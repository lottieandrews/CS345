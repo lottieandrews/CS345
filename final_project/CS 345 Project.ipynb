{
 "cells": [
  {
   "cell_type": "markdown",
   "metadata": {},
   "source": [
    "# TF-IDF and Fake News Detection\n",
    "*by Lottie Andrews*"
   ]
  },
  {
   "cell_type": "code",
   "execution_count": 1,
   "metadata": {},
   "outputs": [],
   "source": [
    "#Python libraries\n",
    "import string\n",
    "import math\n",
    "\n",
    "import pandas as pd # Data formatting\n",
    "import numpy as np # Numerical analysis\n",
    "\n",
    "#Data preprocessing\n",
    "import nltk\n",
    "from nltk.corpus import stopwords as sw\n",
    "from nltk.stem.snowball import SnowballStemmer\n",
    "\n",
    "#Feature extraction\n",
    "from sklearn.feature_extraction.text import CountVectorizer\n",
    "from sklearn.feature_extraction.text import TfidfVectorizer\n",
    "\n",
    "#Model creation\n",
    "from sklearn.model_selection import StratifiedKFold\n",
    "from sklearn.ensemble import RandomForestClassifier\n",
    "from sklearn.model_selection import cross_val_predict\n",
    "\n",
    "#Visualizations\n",
    "from sklearn.metrics import confusion_matrix\n",
    "from sklearn.metrics._plot import confusion_matrix as cm\n",
    "import matplotlib.pyplot as plt"
   ]
  },
  {
   "cell_type": "markdown",
   "metadata": {},
   "source": [
    "The widespread use of social media has, especially recently, put the threat of misinformation on many people’s radar. However, as today’s highly polarized political climate and the pay-per-click economy of the internet nudge many mainstream news outlets towards sensationalism, fake news is becoming harder and harder to distinguish from the truth. Furthermore, algorithms designed to customize user content based on user interest perpetuate the spread of whatever content draws the user’s attention, often without regard for that content’s credibility. With the weaponization of fake news becoming a hot topic in recent years, here is a higher need than ever to detect, prevent, and counteract this type of algorithmic bias.\n",
    "\n",
    "Luckily, the solution to this problem may also lie within the scope of machine learning. [Many different types](https://www.albany.edu/~sp191221/publications/Fake_Media_Rich_News_Detection_A_Survey.pdf) of machine learning methods have been employed to combat the problem of fake news detection, and many popular social media platforms, such as [Facebook and Instagram](https://www.impactplus.com/blog/facebook-and-instagram-starting-to-identify-and-label-fake-news-before-it-goes-viral), have employed ML-based fake news detectors in an attempt to curb the spread of misinformation. \n",
    "\n",
    "In machine learning, fake news detection is most commonly addressed as a text classification problem. **Text classification** is one of the most common types of supervised machine learning problems in the field of **Natural Language Processing (NLP).** In this notebook we will explore how a dataset of real and fake news articles can be transformed into numerical data features using a method called the Bag-of-Words model, as well as a derived method called TF-IDF vectorization. We will then see how this numerical data can be passed to a classifier in order to detect fake news articles within the dataset.\n",
    "\n",
    "This notebook contains three main sections:\n",
    "1. An illustrated explanation of the TF-IDF model and its baseline, the Bag-of-Words approach\n",
    "2. An introduction to the dataset and data cleaning\n",
    "3. Feature extraction on the dataset using the TF-IDF and Bag-of-Words models, and a comparison of classifier accuracy between the two transformed datasets using random forests"
   ]
  },
  {
   "cell_type": "markdown",
   "metadata": {},
   "source": [
    "## 1. Bag-of-Words & TF-IDF"
   ]
  },
  {
   "cell_type": "markdown",
   "metadata": {},
   "source": [
    "Because machine learning algorithms are designed to handle numerical data, the first step to any text classification problem is to create a numerical representation of text data. This process is known as **feature extraction**. In NLP, the baseline approach for feature extraction is known as the **Bag-of-Words model**. \n",
    "\n",
    "### Bag of Words\n",
    "The Bag-of-Words model takes a *corpus* of documents, and begins by tokenizing each document into separate words or characters. As in Jason Brownlee's [Bag-of-Words tutorial](https://machinelearningmastery.com/gentle-introduction-bag-words-model/), we will use the first four lines of \n",
    "Charles Dickens' \"[A Tale of Two Cities](https://www.gutenberg.org/files/98/98-h/98-h.htm)\" as our example \"documents.\" The last two lines have been modified slightly and joined into one to create a variance in document length."
   ]
  },
  {
   "cell_type": "code",
   "execution_count": 2,
   "metadata": {
    "scrolled": false
   },
   "outputs": [
    {
     "data": {
      "text/html": [
       "<div>\n",
       "<style scoped>\n",
       "    .dataframe tbody tr th:only-of-type {\n",
       "        vertical-align: middle;\n",
       "    }\n",
       "\n",
       "    .dataframe tbody tr th {\n",
       "        vertical-align: top;\n",
       "    }\n",
       "\n",
       "    .dataframe thead th {\n",
       "        text-align: right;\n",
       "    }\n",
       "</style>\n",
       "<table border=\"1\" class=\"dataframe\">\n",
       "  <thead>\n",
       "    <tr style=\"text-align: right;\">\n",
       "      <th></th>\n",
       "      <th>0</th>\n",
       "    </tr>\n",
       "  </thead>\n",
       "  <tbody>\n",
       "    <tr>\n",
       "      <th>0</th>\n",
       "      <td>[it, was, the, best, of, times]</td>\n",
       "    </tr>\n",
       "    <tr>\n",
       "      <th>1</th>\n",
       "      <td>[it, was, the, worst, of, times]</td>\n",
       "    </tr>\n",
       "    <tr>\n",
       "      <th>2</th>\n",
       "      <td>[it, was, the, age, of, wisdom, and, the, age,...</td>\n",
       "    </tr>\n",
       "  </tbody>\n",
       "</table>\n",
       "</div>"
      ],
      "text/plain": [
       "                                                   0\n",
       "0                    [it, was, the, best, of, times]\n",
       "1                   [it, was, the, worst, of, times]\n",
       "2  [it, was, the, age, of, wisdom, and, the, age,..."
      ]
     },
     "execution_count": 2,
     "metadata": {},
     "output_type": "execute_result"
    }
   ],
   "source": [
    "doc0 = \"it was the best of times\"\n",
    "doc1 = \"it was the worst of times\"\n",
    "doc2 = \"it was the age of wisdom and the age of foolishness\"\n",
    "\n",
    "corpus_df = pd.DataFrame([[doc0.split()], [doc1.split()], [doc2.split()]])\n",
    "corpus_df"
   ]
  },
  {
   "cell_type": "markdown",
   "metadata": {},
   "source": [
    "It then **tokenizes** the data by separating each line in the corpus into individual words (or *tokens*), creates a *vocabulary* of every unique token that appears in the corpus, and creates a numerical vector representing the presence of each token in every document. This vectorization process is also called **scoring**. Scoring can be done using one of several different methods; the tutorial linked above uses a binary method of scoring, using 1 to represent the presence of a word in a document and 0 to represent its absence. The example below, however, creates a vector representing the number of times every word in the vocabulary appears in each document."
   ]
  },
  {
   "cell_type": "code",
   "execution_count": 3,
   "metadata": {},
   "outputs": [],
   "source": [
    "def bag_of_words(corpus):\n",
    "    data = corpus.copy()\n",
    "    vocab = np.unique(np.concatenate(corpus_df.iloc[:,0].values))\n",
    "    counts = pd.DataFrame(0, index=data.iloc[:,0].index.values, columns = vocab)\n",
    "    for row in data.transpose():\n",
    "        for word in data.iloc[:,0][row]:\n",
    "            counts[word][row] += 1\n",
    "    return counts"
   ]
  },
  {
   "cell_type": "code",
   "execution_count": 4,
   "metadata": {
    "scrolled": false
   },
   "outputs": [
    {
     "data": {
      "text/html": [
       "<div>\n",
       "<style scoped>\n",
       "    .dataframe tbody tr th:only-of-type {\n",
       "        vertical-align: middle;\n",
       "    }\n",
       "\n",
       "    .dataframe tbody tr th {\n",
       "        vertical-align: top;\n",
       "    }\n",
       "\n",
       "    .dataframe thead th {\n",
       "        text-align: right;\n",
       "    }\n",
       "</style>\n",
       "<table border=\"1\" class=\"dataframe\">\n",
       "  <thead>\n",
       "    <tr style=\"text-align: right;\">\n",
       "      <th></th>\n",
       "      <th>age</th>\n",
       "      <th>and</th>\n",
       "      <th>best</th>\n",
       "      <th>foolishness</th>\n",
       "      <th>it</th>\n",
       "      <th>of</th>\n",
       "      <th>the</th>\n",
       "      <th>times</th>\n",
       "      <th>was</th>\n",
       "      <th>wisdom</th>\n",
       "      <th>worst</th>\n",
       "    </tr>\n",
       "  </thead>\n",
       "  <tbody>\n",
       "    <tr>\n",
       "      <th>0</th>\n",
       "      <td>0</td>\n",
       "      <td>0</td>\n",
       "      <td>1</td>\n",
       "      <td>0</td>\n",
       "      <td>1</td>\n",
       "      <td>1</td>\n",
       "      <td>1</td>\n",
       "      <td>1</td>\n",
       "      <td>1</td>\n",
       "      <td>0</td>\n",
       "      <td>0</td>\n",
       "    </tr>\n",
       "    <tr>\n",
       "      <th>1</th>\n",
       "      <td>0</td>\n",
       "      <td>0</td>\n",
       "      <td>0</td>\n",
       "      <td>0</td>\n",
       "      <td>1</td>\n",
       "      <td>1</td>\n",
       "      <td>1</td>\n",
       "      <td>1</td>\n",
       "      <td>1</td>\n",
       "      <td>0</td>\n",
       "      <td>1</td>\n",
       "    </tr>\n",
       "    <tr>\n",
       "      <th>2</th>\n",
       "      <td>2</td>\n",
       "      <td>1</td>\n",
       "      <td>0</td>\n",
       "      <td>1</td>\n",
       "      <td>1</td>\n",
       "      <td>2</td>\n",
       "      <td>2</td>\n",
       "      <td>0</td>\n",
       "      <td>1</td>\n",
       "      <td>1</td>\n",
       "      <td>0</td>\n",
       "    </tr>\n",
       "  </tbody>\n",
       "</table>\n",
       "</div>"
      ],
      "text/plain": [
       "   age  and  best  foolishness  it  of  the  times  was  wisdom  worst\n",
       "0    0    0     1            0   1   1    1      1    1       0      0\n",
       "1    0    0     0            0   1   1    1      1    1       0      1\n",
       "2    2    1     0            1   1   2    2      0    1       1      0"
      ]
     },
     "execution_count": 4,
     "metadata": {},
     "output_type": "execute_result"
    }
   ],
   "source": [
    "bow = bag_of_words(corpus_df)\n",
    "bow"
   ]
  },
  {
   "cell_type": "markdown",
   "metadata": {},
   "source": [
    "There are several limitations to the bag of words model:\n",
    "1. **Sparsity:** Large datasets will result in a large vocabulary size, which in turn yield a sparse vector representation of the data. Sparse vector representations can hinder both speed and accuracy during classification due to their size and the level of noise they contain. There are several techniques which can be used during data preprocessing to help manage vocabulary size, several of which will be discussed in Part 2 of this notebook.\n",
    "2. **Context:** Word order is ignored, meaning that no information can be gained from word context or document structure. Therefore, while Bag of Words and related models such as TF-IDF can be useful for text classification, they are not well-suited to other NLP tasks which rely on contextualization, such as [question answering](https://towardsdatascience.com/nlp-building-a-question-answering-model-ed0529a68c54), [text summarization](https://medium.com/luisfredgs/automatic-text-summarization-with-machine-learning-an-overview-68ded5717a25), and [statistical language modeling](https://machinelearningmastery.com/statistical-language-modeling-and-neural-language-models/).\n",
    "3. **Word Importance:** Words that occur commonly throughout the dataset but may not contain much useful information, such as conjunctions, pronouns, and articles, are weighted more heavily than words that are less common, but may be more informative to the model.\n",
    "\n",
    "The TF-IDF model addresses the third issue discussed above by scaling the values obtained by the Bag-of-Words model according to the length of each document and how often each word appears in the corpus as a whole."
   ]
  },
  {
   "cell_type": "markdown",
   "metadata": {},
   "source": [
    "### TF-IDF\n",
    "\n",
    "The term **TF-IDF** is an acronym for the formula the model uses to score data:\n",
    "\n",
    "$$\\text{Term Frequency (TF) }\\times \\text{ Inverse Document Frequency (IDF)}$$\n",
    "\n",
    "While [several variations](https://nlp.stanford.edu/IR-book/pdf/06vect.pdf) of the TF-IDF formula exist, the weight of a term $t$ in document $d$ is commonly defined as:\n",
    "\n",
    "$$w_{t,d} = \\mathit{tf}_{t,d}\\times log\\frac{N}{\\mathit{df}_t + 1}$$\n",
    "\n",
    "where $\\mathit{tf}$ is the number of times $t$ appears in $d$ (the value calculated by the standard Bag-of-Words model), $N$ is the total number of documents in the corpus, and $\\mathit{df}$ is the number of documents containing $t$. The addition of 1 in the denominator of the $\\mathit{idf}$ term prevents division by 0."
   ]
  },
  {
   "cell_type": "markdown",
   "metadata": {},
   "source": [
    "The code below demonstrates how the TF-IDF changes the feature weights created by the Bag-of-Words model."
   ]
  },
  {
   "cell_type": "code",
   "execution_count": 5,
   "metadata": {},
   "outputs": [],
   "source": [
    "#TF is calculated by bag_of_words() above.\n",
    "\n",
    "def calc_IDF(bag, calc_DF = False):\n",
    "    N = len(bag) #Number of documents in corpus\n",
    "    \n",
    "    #Dataframe storing df values (number of documents containing each term t)\n",
    "    rtn = pd.DataFrame([(bag!=0).sum()], index = [0], columns = bag.keys())\n",
    "    \n",
    "    #Calculate log(N/df + 1) for all df values in dataframe\n",
    "    if not(calc_DF):\n",
    "        rtn = pd.DataFrame(rtn.apply(lambda df : math.log(N/df + 1))).transpose()\n",
    "    \n",
    "    #Return dataframe of df values if calc_DF == True\n",
    "    #Return dataframe of idf values if calc_DF == False\n",
    "    return rtn\n",
    "\n",
    "def calc_TF_IDF(corpus):\n",
    "    tf= bag_of_words(corpus)  #Calculate tfs\n",
    "    idf = np.array(calc_IDF(tf)) #Calculate idfs\n",
    "    \n",
    "    #Return dataframe of tf-idf values\n",
    "    return pd.DataFrame(np.array(tf) * idf, columns = tf.keys())"
   ]
  },
  {
   "cell_type": "code",
   "execution_count": 6,
   "metadata": {
    "scrolled": false
   },
   "outputs": [
    {
     "data": {
      "text/html": [
       "<div>\n",
       "<style scoped>\n",
       "    .dataframe tbody tr th:only-of-type {\n",
       "        vertical-align: middle;\n",
       "    }\n",
       "\n",
       "    .dataframe tbody tr th {\n",
       "        vertical-align: top;\n",
       "    }\n",
       "\n",
       "    .dataframe thead th {\n",
       "        text-align: right;\n",
       "    }\n",
       "</style>\n",
       "<table border=\"1\" class=\"dataframe\">\n",
       "  <thead>\n",
       "    <tr style=\"text-align: right;\">\n",
       "      <th></th>\n",
       "      <th>age</th>\n",
       "      <th>and</th>\n",
       "      <th>best</th>\n",
       "      <th>foolishness</th>\n",
       "      <th>it</th>\n",
       "      <th>of</th>\n",
       "      <th>the</th>\n",
       "      <th>times</th>\n",
       "      <th>was</th>\n",
       "      <th>wisdom</th>\n",
       "      <th>worst</th>\n",
       "    </tr>\n",
       "  </thead>\n",
       "  <tbody>\n",
       "    <tr>\n",
       "      <th>0</th>\n",
       "      <td>0.000000</td>\n",
       "      <td>0.000000</td>\n",
       "      <td>1.386294</td>\n",
       "      <td>0.000000</td>\n",
       "      <td>0.693147</td>\n",
       "      <td>0.693147</td>\n",
       "      <td>0.693147</td>\n",
       "      <td>0.916291</td>\n",
       "      <td>0.693147</td>\n",
       "      <td>0.000000</td>\n",
       "      <td>0.000000</td>\n",
       "    </tr>\n",
       "    <tr>\n",
       "      <th>1</th>\n",
       "      <td>0.000000</td>\n",
       "      <td>0.000000</td>\n",
       "      <td>0.000000</td>\n",
       "      <td>0.000000</td>\n",
       "      <td>0.693147</td>\n",
       "      <td>0.693147</td>\n",
       "      <td>0.693147</td>\n",
       "      <td>0.916291</td>\n",
       "      <td>0.693147</td>\n",
       "      <td>0.000000</td>\n",
       "      <td>1.386294</td>\n",
       "    </tr>\n",
       "    <tr>\n",
       "      <th>2</th>\n",
       "      <td>2.772589</td>\n",
       "      <td>1.386294</td>\n",
       "      <td>0.000000</td>\n",
       "      <td>1.386294</td>\n",
       "      <td>0.693147</td>\n",
       "      <td>1.386294</td>\n",
       "      <td>1.386294</td>\n",
       "      <td>0.000000</td>\n",
       "      <td>0.693147</td>\n",
       "      <td>1.386294</td>\n",
       "      <td>0.000000</td>\n",
       "    </tr>\n",
       "  </tbody>\n",
       "</table>\n",
       "</div>"
      ],
      "text/plain": [
       "        age       and      best  foolishness        it        of       the  \\\n",
       "0  0.000000  0.000000  1.386294     0.000000  0.693147  0.693147  0.693147   \n",
       "1  0.000000  0.000000  0.000000     0.000000  0.693147  0.693147  0.693147   \n",
       "2  2.772589  1.386294  0.000000     1.386294  0.693147  1.386294  1.386294   \n",
       "\n",
       "      times       was    wisdom     worst  \n",
       "0  0.916291  0.693147  0.000000  0.000000  \n",
       "1  0.916291  0.693147  0.000000  1.386294  \n",
       "2  0.000000  0.693147  1.386294  0.000000  "
      ]
     },
     "execution_count": 6,
     "metadata": {},
     "output_type": "execute_result"
    }
   ],
   "source": [
    "tfidf = calc_TF_IDF(corpus_df)\n",
    "tfidf"
   ]
  },
  {
   "cell_type": "markdown",
   "metadata": {},
   "source": [
    "It is worth noting that the [scikit-learn](https://scikit-learn.org/stable/modules/generated/sklearn.feature_extraction.text.TfidfVectorizer.html) implementation of the TF-IDF vectorizer, which we will use in Part 3 of this notebook for the sake of speed, uses a formula that [varies slightly](https://scikit-learn.org/stable/modules/feature_extraction.html#text-feature-extraction) from the textbook TF-IDF equation provided above. However, both implementations still create the same patterns in the resulting weight vectors, which all variations of the TF-IDF model aim to generate:\n",
    "1. $w$ is highest when a term occurs many times within a small handful of documents,\n",
    "2. $w$ is lower when a term occurs only a few times in a document or is present in a large number of documents, and\n",
    "3. $w$ is lowest when a term is present in every document in the corpus."
   ]
  },
  {
   "cell_type": "markdown",
   "metadata": {},
   "source": [
    "## 2. Preparing the Dataset"
   ]
  },
  {
   "cell_type": "markdown",
   "metadata": {},
   "source": [
    "The dataset we will use in this notebook, which was compiled by data scientist George McIntyre, can be downloaded [here](https://drive.google.com/file/d/1lpnJb0RoZSAQi2T4OlotTKh-7raLodnR/view?usp=sharing). It contains 3,171 real news articles and 3,164 fake news articles.\n",
    "\n",
    "In Part 3 we will perform both Bag-of-Words and TF-IDF vectorization on the dataset and compare how accurately a Random Forest Classifier performs on each transformation of our data.\n",
    "\n",
    "Before this can be done, however, we must perform **preprocessing** on our dataset in order to remove potentially noisy features and prepare it for encoding.\n",
    "\n",
    "***NOTE:*** *You must download the dataset from the link above and move it to the same directory as this notebook in order for the rest of the notebook to run.*"
   ]
  },
  {
   "cell_type": "code",
   "execution_count": 7,
   "metadata": {
    "scrolled": false
   },
   "outputs": [
    {
     "data": {
      "text/html": [
       "<div>\n",
       "<style scoped>\n",
       "    .dataframe tbody tr th:only-of-type {\n",
       "        vertical-align: middle;\n",
       "    }\n",
       "\n",
       "    .dataframe tbody tr th {\n",
       "        vertical-align: top;\n",
       "    }\n",
       "\n",
       "    .dataframe thead th {\n",
       "        text-align: right;\n",
       "    }\n",
       "</style>\n",
       "<table border=\"1\" class=\"dataframe\">\n",
       "  <thead>\n",
       "    <tr style=\"text-align: right;\">\n",
       "      <th></th>\n",
       "      <th>Unnamed: 0</th>\n",
       "      <th>title</th>\n",
       "      <th>text</th>\n",
       "      <th>label</th>\n",
       "    </tr>\n",
       "  </thead>\n",
       "  <tbody>\n",
       "    <tr>\n",
       "      <th>0</th>\n",
       "      <td>8476</td>\n",
       "      <td>You Can Smell Hillary’s Fear</td>\n",
       "      <td>Daniel Greenfield, a Shillman Journalism Fello...</td>\n",
       "      <td>FAKE</td>\n",
       "    </tr>\n",
       "    <tr>\n",
       "      <th>1</th>\n",
       "      <td>10294</td>\n",
       "      <td>Watch The Exact Moment Paul Ryan Committed Pol...</td>\n",
       "      <td>Google Pinterest Digg Linkedin Reddit Stumbleu...</td>\n",
       "      <td>FAKE</td>\n",
       "    </tr>\n",
       "    <tr>\n",
       "      <th>2</th>\n",
       "      <td>3608</td>\n",
       "      <td>Kerry to go to Paris in gesture of sympathy</td>\n",
       "      <td>U.S. Secretary of State John F. Kerry said Mon...</td>\n",
       "      <td>REAL</td>\n",
       "    </tr>\n",
       "    <tr>\n",
       "      <th>3</th>\n",
       "      <td>10142</td>\n",
       "      <td>Bernie supporters on Twitter erupt in anger ag...</td>\n",
       "      <td>— Kaydee King (@KaydeeKing) November 9, 2016 T...</td>\n",
       "      <td>FAKE</td>\n",
       "    </tr>\n",
       "    <tr>\n",
       "      <th>4</th>\n",
       "      <td>875</td>\n",
       "      <td>The Battle of New York: Why This Primary Matters</td>\n",
       "      <td>It's primary day in New York and front-runners...</td>\n",
       "      <td>REAL</td>\n",
       "    </tr>\n",
       "  </tbody>\n",
       "</table>\n",
       "</div>"
      ],
      "text/plain": [
       "   Unnamed: 0                                              title  \\\n",
       "0        8476                       You Can Smell Hillary’s Fear   \n",
       "1       10294  Watch The Exact Moment Paul Ryan Committed Pol...   \n",
       "2        3608        Kerry to go to Paris in gesture of sympathy   \n",
       "3       10142  Bernie supporters on Twitter erupt in anger ag...   \n",
       "4         875   The Battle of New York: Why This Primary Matters   \n",
       "\n",
       "                                                text label  \n",
       "0  Daniel Greenfield, a Shillman Journalism Fello...  FAKE  \n",
       "1  Google Pinterest Digg Linkedin Reddit Stumbleu...  FAKE  \n",
       "2  U.S. Secretary of State John F. Kerry said Mon...  REAL  \n",
       "3  — Kaydee King (@KaydeeKing) November 9, 2016 T...  FAKE  \n",
       "4  It's primary day in New York and front-runners...  REAL  "
      ]
     },
     "execution_count": 7,
     "metadata": {},
     "output_type": "execute_result"
    }
   ],
   "source": [
    "news = pd.read_csv('news.csv')\n",
    "news.head()"
   ]
  },
  {
   "cell_type": "code",
   "execution_count": 8,
   "metadata": {},
   "outputs": [
    {
     "data": {
      "text/plain": [
       "False"
      ]
     },
     "execution_count": 8,
     "metadata": {},
     "output_type": "execute_result"
    }
   ],
   "source": [
    "news.isnull().values.any()"
   ]
  },
  {
   "cell_type": "markdown",
   "metadata": {},
   "source": [
    "Since our dataset contains no null values, we don't have to worry about handling any missing data. Our first step, therefore, is to format our features.\n",
    "\n",
    "The numerical IDs of each article are of no use to us, so we can remove column *'0'* from the dataset. We can also join the *'title'* and *'text'* columns so that all of our text data is contained in a single column."
   ]
  },
  {
   "cell_type": "code",
   "execution_count": 9,
   "metadata": {
    "scrolled": true
   },
   "outputs": [
    {
     "data": {
      "text/html": [
       "<div>\n",
       "<style scoped>\n",
       "    .dataframe tbody tr th:only-of-type {\n",
       "        vertical-align: middle;\n",
       "    }\n",
       "\n",
       "    .dataframe tbody tr th {\n",
       "        vertical-align: top;\n",
       "    }\n",
       "\n",
       "    .dataframe thead th {\n",
       "        text-align: right;\n",
       "    }\n",
       "</style>\n",
       "<table border=\"1\" class=\"dataframe\">\n",
       "  <thead>\n",
       "    <tr style=\"text-align: right;\">\n",
       "      <th></th>\n",
       "      <th>label</th>\n",
       "      <th>article</th>\n",
       "    </tr>\n",
       "  </thead>\n",
       "  <tbody>\n",
       "    <tr>\n",
       "      <th>0</th>\n",
       "      <td>FAKE</td>\n",
       "      <td>You Can Smell Hillary’s Fear Daniel Greenfield...</td>\n",
       "    </tr>\n",
       "    <tr>\n",
       "      <th>1</th>\n",
       "      <td>FAKE</td>\n",
       "      <td>Watch The Exact Moment Paul Ryan Committed Pol...</td>\n",
       "    </tr>\n",
       "    <tr>\n",
       "      <th>2</th>\n",
       "      <td>REAL</td>\n",
       "      <td>Kerry to go to Paris in gesture of sympathy U....</td>\n",
       "    </tr>\n",
       "    <tr>\n",
       "      <th>3</th>\n",
       "      <td>FAKE</td>\n",
       "      <td>Bernie supporters on Twitter erupt in anger ag...</td>\n",
       "    </tr>\n",
       "    <tr>\n",
       "      <th>4</th>\n",
       "      <td>REAL</td>\n",
       "      <td>The Battle of New York: Why This Primary Matte...</td>\n",
       "    </tr>\n",
       "  </tbody>\n",
       "</table>\n",
       "</div>"
      ],
      "text/plain": [
       "  label                                            article\n",
       "0  FAKE  You Can Smell Hillary’s Fear Daniel Greenfield...\n",
       "1  FAKE  Watch The Exact Moment Paul Ryan Committed Pol...\n",
       "2  REAL  Kerry to go to Paris in gesture of sympathy U....\n",
       "3  FAKE  Bernie supporters on Twitter erupt in anger ag...\n",
       "4  REAL  The Battle of New York: Why This Primary Matte..."
      ]
     },
     "execution_count": 9,
     "metadata": {},
     "output_type": "execute_result"
    }
   ],
   "source": [
    "#Remove nonsensical numerical labels\n",
    "news.drop(news.columns[0], axis = 1, inplace = True)\n",
    "\n",
    "#Join title and text columns together\n",
    "news['article'] = news['title'] + ' ' + news['text']\n",
    "\n",
    "#Remove individual columns\n",
    "news.drop(['title', 'text'], axis = 1, inplace = True)\n",
    "\n",
    "news.head()"
   ]
  },
  {
   "cell_type": "markdown",
   "metadata": {},
   "source": [
    "Next, we want to create numerical labels for our data. We will use 0 to denote a fake news article and 1 to denote a real one."
   ]
  },
  {
   "cell_type": "code",
   "execution_count": 10,
   "metadata": {
    "scrolled": true
   },
   "outputs": [
    {
     "data": {
      "text/html": [
       "<div>\n",
       "<style scoped>\n",
       "    .dataframe tbody tr th:only-of-type {\n",
       "        vertical-align: middle;\n",
       "    }\n",
       "\n",
       "    .dataframe tbody tr th {\n",
       "        vertical-align: top;\n",
       "    }\n",
       "\n",
       "    .dataframe thead th {\n",
       "        text-align: right;\n",
       "    }\n",
       "</style>\n",
       "<table border=\"1\" class=\"dataframe\">\n",
       "  <thead>\n",
       "    <tr style=\"text-align: right;\">\n",
       "      <th></th>\n",
       "      <th>label</th>\n",
       "      <th>article</th>\n",
       "    </tr>\n",
       "  </thead>\n",
       "  <tbody>\n",
       "    <tr>\n",
       "      <th>0</th>\n",
       "      <td>0</td>\n",
       "      <td>You Can Smell Hillary’s Fear Daniel Greenfield...</td>\n",
       "    </tr>\n",
       "    <tr>\n",
       "      <th>1</th>\n",
       "      <td>0</td>\n",
       "      <td>Watch The Exact Moment Paul Ryan Committed Pol...</td>\n",
       "    </tr>\n",
       "    <tr>\n",
       "      <th>2</th>\n",
       "      <td>1</td>\n",
       "      <td>Kerry to go to Paris in gesture of sympathy U....</td>\n",
       "    </tr>\n",
       "    <tr>\n",
       "      <th>3</th>\n",
       "      <td>0</td>\n",
       "      <td>Bernie supporters on Twitter erupt in anger ag...</td>\n",
       "    </tr>\n",
       "    <tr>\n",
       "      <th>4</th>\n",
       "      <td>1</td>\n",
       "      <td>The Battle of New York: Why This Primary Matte...</td>\n",
       "    </tr>\n",
       "  </tbody>\n",
       "</table>\n",
       "</div>"
      ],
      "text/plain": [
       "   label                                            article\n",
       "0      0  You Can Smell Hillary’s Fear Daniel Greenfield...\n",
       "1      0  Watch The Exact Moment Paul Ryan Committed Pol...\n",
       "2      1  Kerry to go to Paris in gesture of sympathy U....\n",
       "3      0  Bernie supporters on Twitter erupt in anger ag...\n",
       "4      1  The Battle of New York: Why This Primary Matte..."
      ]
     },
     "execution_count": 10,
     "metadata": {},
     "output_type": "execute_result"
    }
   ],
   "source": [
    "#Rename labels (REAL = 1, FAKE = 0)\n",
    "news['label'] = news['label'].replace(['FAKE','REAL'],[0,1])\n",
    "\n",
    "news.head()"
   ]
  },
  {
   "cell_type": "markdown",
   "metadata": {},
   "source": [
    "Now that our data is properly formatted, we can complete the preprocessing step."
   ]
  },
  {
   "cell_type": "markdown",
   "metadata": {},
   "source": [
    "### Preprocessing Techniques\n",
    "\n",
    "In Part 1 of this notebook, we discussed the importance of managing vocabulary size in order to reduce the level of noise in our dataset and decrease the runtime of our classifier. We will employ several preprocessing techniques on our data in order to remove irrelevant information and simplify our features, some of which are relatively straightforward and some of which we will discuss in slightly more depth:\n",
    "- Removing punctuation\n",
    "- Converting all characters to lowercase\n",
    "- Tokenization\n",
    "- Removing stopwords\n",
    "- Removing words with length <= 2\n",
    "- Stemming*"
   ]
  },
  {
   "cell_type": "markdown",
   "metadata": {},
   "source": [
    "### Stopwords\n",
    "**Stopwords** are words that are highly common to a given language (\"the\", \"and\", \"of\", \"is\", etc). These words are likely to be present multiple times in virtually every document in the corpus without providing much meaning to the reader nor information to our classifier. Therefore, we can consider them to be noise features and remove them from our dataset. When we apply our preprocessing to the dataset we will remove the following stopwords using the list provided by NLTK:"
   ]
  },
  {
   "cell_type": "code",
   "execution_count": 11,
   "metadata": {
    "scrolled": false
   },
   "outputs": [
    {
     "name": "stdout",
     "output_type": "stream",
     "text": [
      "['i', 'me', 'my', 'myself', 'we', 'our', 'ours', 'ourselves', 'you', \"you're\", \"you've\", \"you'll\", \"you'd\", 'your', 'yours', 'yourself', 'yourselves', 'he', 'him', 'his', 'himself', 'she', \"she's\", 'her', 'hers', 'herself', 'it', \"it's\", 'its', 'itself', 'they', 'them', 'their', 'theirs', 'themselves', 'what', 'which', 'who', 'whom', 'this', 'that', \"that'll\", 'these', 'those', 'am', 'is', 'are', 'was', 'were', 'be', 'been', 'being', 'have', 'has', 'had', 'having', 'do', 'does', 'did', 'doing', 'a', 'an', 'the', 'and', 'but', 'if', 'or', 'because', 'as', 'until', 'while', 'of', 'at', 'by', 'for', 'with', 'about', 'against', 'between', 'into', 'through', 'during', 'before', 'after', 'above', 'below', 'to', 'from', 'up', 'down', 'in', 'out', 'on', 'off', 'over', 'under', 'again', 'further', 'then', 'once', 'here', 'there', 'when', 'where', 'why', 'how', 'all', 'any', 'both', 'each', 'few', 'more', 'most', 'other', 'some', 'such', 'no', 'nor', 'not', 'only', 'own', 'same', 'so', 'than', 'too', 'very', 's', 't', 'can', 'will', 'just', 'don', \"don't\", 'should', \"should've\", 'now', 'd', 'll', 'm', 'o', 're', 've', 'y', 'ain', 'aren', \"aren't\", 'couldn', \"couldn't\", 'didn', \"didn't\", 'doesn', \"doesn't\", 'hadn', \"hadn't\", 'hasn', \"hasn't\", 'haven', \"haven't\", 'isn', \"isn't\", 'ma', 'mightn', \"mightn't\", 'mustn', \"mustn't\", 'needn', \"needn't\", 'shan', \"shan't\", 'shouldn', \"shouldn't\", 'wasn', \"wasn't\", 'weren', \"weren't\", 'won', \"won't\", 'wouldn', \"wouldn't\"]\n"
     ]
    }
   ],
   "source": [
    "print(sw.words('english'))"
   ]
  },
  {
   "cell_type": "markdown",
   "metadata": {},
   "source": [
    "### Stemming*\n",
    "**Stemming** is a process by which words are reduced to their base forms. The [aim of this process](https://nlp.stanford.edu/IR-book/html/htmledition/stemming-and-lemmatization-1.html) is to group together similar words in a document which have similar meanings (\"run\", \"runs\", and \"running,\" for example) into a single feature, thus reducing vocabulary size. Stemming accomplishes this by chopping off the suffixes of words. Below we can see how the previous sentence looks when stemming is applied using NLTK's [Snowball Stemmer](https://www.nltk.org/_modules/nltk/stem/snowball.html):"
   ]
  },
  {
   "cell_type": "code",
   "execution_count": 12,
   "metadata": {},
   "outputs": [
    {
     "data": {
      "text/plain": [
       "['stem',\n",
       " 'accomplish',\n",
       " 'this',\n",
       " 'by',\n",
       " 'chop',\n",
       " 'off',\n",
       " 'the',\n",
       " 'suffix',\n",
       " 'of',\n",
       " 'word']"
      ]
     },
     "execution_count": 12,
     "metadata": {},
     "output_type": "execute_result"
    }
   ],
   "source": [
    "sentence = \"Stemming accomplishes this by chopping off the suffixes of words\"\n",
    "ss = SnowballStemmer('english')\n",
    "stems = [ss.stem(word) for word in sentence.split()]\n",
    "stems"
   ]
  },
  {
   "cell_type": "markdown",
   "metadata": {},
   "source": [
    "**\\***It is important to note that stemming has actually been found to [decrease accuracy](https://mimno.infosci.cornell.edu/papers/schofield_tacl_2016.pdf) in some classification problems, implying that stemming can result in the loss of information that may be relevant to the model. This was found to be the case for our dataset during the process of fine-tuning the final model. Due to this observation and the fact that stemming significantly increases the runtime of the preprocessor, stemming will by default ***not*** be applied to the dataset. However, preprocessor( ) contains an optional parameter *'apply_stemming'* so that the code can be modified to show the effects of applying stemming to the data."
   ]
  },
  {
   "cell_type": "markdown",
   "metadata": {},
   "source": [
    "### Preprocessing the Data\n",
    "We can now apply preprocessing to our dataset:"
   ]
  },
  {
   "cell_type": "code",
   "execution_count": 13,
   "metadata": {},
   "outputs": [],
   "source": [
    "def preprocessor(text, apply_stemming = False):   \n",
    "    #Remove punctuation and numbers\n",
    "    text = text.translate(str.maketrans('','', string.punctuation + \"\\\\“”\"))\n",
    "    text = text.replace(\"’\", \"'\")\n",
    "    text = text.replace(\"‘\", \"'\")\n",
    "    \n",
    "    #Replace apostrophes with spaces, thus separating contractions into two and stemming posessive nouns\n",
    "    text = text.replace(\"'\", \" \")\n",
    "    \n",
    "    #Tokenize, change all tokens to lowercase, remove stopwords & words of length <= 2\n",
    "    #Apply stemming to each token if apply_stemming == True\n",
    "    stopwords = sw.words('english')\n",
    "    if(apply_stemming):\n",
    "        ss = SnowballStemmer('english')\n",
    "        rtn = [ss.stem(word.lower()) for word in text.split() if (word.lower() not in stopwords and len(word) > 2)]\n",
    "    else:        \n",
    "        rtn = [word.lower() for word in text.split() if (word.lower() not in stopwords and len(word) > 2)]\n",
    "    \n",
    "    return rtn;"
   ]
  },
  {
   "cell_type": "code",
   "execution_count": 14,
   "metadata": {},
   "outputs": [],
   "source": [
    "news['clean'] = news['article'].apply(preprocessor)"
   ]
  },
  {
   "cell_type": "code",
   "execution_count": 15,
   "metadata": {
    "scrolled": false
   },
   "outputs": [
    {
     "data": {
      "text/html": [
       "<div>\n",
       "<style scoped>\n",
       "    .dataframe tbody tr th:only-of-type {\n",
       "        vertical-align: middle;\n",
       "    }\n",
       "\n",
       "    .dataframe tbody tr th {\n",
       "        vertical-align: top;\n",
       "    }\n",
       "\n",
       "    .dataframe thead th {\n",
       "        text-align: right;\n",
       "    }\n",
       "</style>\n",
       "<table border=\"1\" class=\"dataframe\">\n",
       "  <thead>\n",
       "    <tr style=\"text-align: right;\">\n",
       "      <th></th>\n",
       "      <th>label</th>\n",
       "      <th>article</th>\n",
       "      <th>clean</th>\n",
       "    </tr>\n",
       "  </thead>\n",
       "  <tbody>\n",
       "    <tr>\n",
       "      <th>0</th>\n",
       "      <td>0</td>\n",
       "      <td>You Can Smell Hillary’s Fear Daniel Greenfield...</td>\n",
       "      <td>[smell, hillary, fear, daniel, greenfield, shi...</td>\n",
       "    </tr>\n",
       "    <tr>\n",
       "      <th>1</th>\n",
       "      <td>0</td>\n",
       "      <td>Watch The Exact Moment Paul Ryan Committed Pol...</td>\n",
       "      <td>[watch, exact, moment, paul, ryan, committed, ...</td>\n",
       "    </tr>\n",
       "    <tr>\n",
       "      <th>2</th>\n",
       "      <td>1</td>\n",
       "      <td>Kerry to go to Paris in gesture of sympathy U....</td>\n",
       "      <td>[kerry, paris, gesture, sympathy, secretary, s...</td>\n",
       "    </tr>\n",
       "    <tr>\n",
       "      <th>3</th>\n",
       "      <td>0</td>\n",
       "      <td>Bernie supporters on Twitter erupt in anger ag...</td>\n",
       "      <td>[bernie, supporters, twitter, erupt, anger, dn...</td>\n",
       "    </tr>\n",
       "    <tr>\n",
       "      <th>4</th>\n",
       "      <td>1</td>\n",
       "      <td>The Battle of New York: Why This Primary Matte...</td>\n",
       "      <td>[battle, new, york, primary, matters, primary,...</td>\n",
       "    </tr>\n",
       "  </tbody>\n",
       "</table>\n",
       "</div>"
      ],
      "text/plain": [
       "   label                                            article  \\\n",
       "0      0  You Can Smell Hillary’s Fear Daniel Greenfield...   \n",
       "1      0  Watch The Exact Moment Paul Ryan Committed Pol...   \n",
       "2      1  Kerry to go to Paris in gesture of sympathy U....   \n",
       "3      0  Bernie supporters on Twitter erupt in anger ag...   \n",
       "4      1  The Battle of New York: Why This Primary Matte...   \n",
       "\n",
       "                                               clean  \n",
       "0  [smell, hillary, fear, daniel, greenfield, shi...  \n",
       "1  [watch, exact, moment, paul, ryan, committed, ...  \n",
       "2  [kerry, paris, gesture, sympathy, secretary, s...  \n",
       "3  [bernie, supporters, twitter, erupt, anger, dn...  \n",
       "4  [battle, new, york, primary, matters, primary,...  "
      ]
     },
     "execution_count": 15,
     "metadata": {},
     "output_type": "execute_result"
    }
   ],
   "source": [
    "news.head()"
   ]
  },
  {
   "cell_type": "markdown",
   "metadata": {},
   "source": [
    "Since [CountVectorizer](https://scikit-learn.org/stable/modules/generated/sklearn.feature_extraction.text.CountVectorizer.html) and [TfidfVectorizer](https://scikit-learn.org/stable/modules/generated/sklearn.feature_extraction.text.TfidfVectorizer.html) both automatically tokenize whatever data is passed in, we need to rejoin each list of tokens in our cleaned dataset:"
   ]
  },
  {
   "cell_type": "code",
   "execution_count": 16,
   "metadata": {},
   "outputs": [
    {
     "data": {
      "text/html": [
       "<div>\n",
       "<style scoped>\n",
       "    .dataframe tbody tr th:only-of-type {\n",
       "        vertical-align: middle;\n",
       "    }\n",
       "\n",
       "    .dataframe tbody tr th {\n",
       "        vertical-align: top;\n",
       "    }\n",
       "\n",
       "    .dataframe thead th {\n",
       "        text-align: right;\n",
       "    }\n",
       "</style>\n",
       "<table border=\"1\" class=\"dataframe\">\n",
       "  <thead>\n",
       "    <tr style=\"text-align: right;\">\n",
       "      <th></th>\n",
       "      <th>label</th>\n",
       "      <th>article</th>\n",
       "      <th>clean</th>\n",
       "    </tr>\n",
       "  </thead>\n",
       "  <tbody>\n",
       "    <tr>\n",
       "      <th>0</th>\n",
       "      <td>0</td>\n",
       "      <td>You Can Smell Hillary’s Fear Daniel Greenfield...</td>\n",
       "      <td>smell hillary fear daniel greenfield shillman ...</td>\n",
       "    </tr>\n",
       "    <tr>\n",
       "      <th>1</th>\n",
       "      <td>0</td>\n",
       "      <td>Watch The Exact Moment Paul Ryan Committed Pol...</td>\n",
       "      <td>watch exact moment paul ryan committed politic...</td>\n",
       "    </tr>\n",
       "    <tr>\n",
       "      <th>2</th>\n",
       "      <td>1</td>\n",
       "      <td>Kerry to go to Paris in gesture of sympathy U....</td>\n",
       "      <td>kerry paris gesture sympathy secretary state j...</td>\n",
       "    </tr>\n",
       "    <tr>\n",
       "      <th>3</th>\n",
       "      <td>0</td>\n",
       "      <td>Bernie supporters on Twitter erupt in anger ag...</td>\n",
       "      <td>bernie supporters twitter erupt anger dnc trie...</td>\n",
       "    </tr>\n",
       "    <tr>\n",
       "      <th>4</th>\n",
       "      <td>1</td>\n",
       "      <td>The Battle of New York: Why This Primary Matte...</td>\n",
       "      <td>battle new york primary matters primary day ne...</td>\n",
       "    </tr>\n",
       "  </tbody>\n",
       "</table>\n",
       "</div>"
      ],
      "text/plain": [
       "   label                                            article  \\\n",
       "0      0  You Can Smell Hillary’s Fear Daniel Greenfield...   \n",
       "1      0  Watch The Exact Moment Paul Ryan Committed Pol...   \n",
       "2      1  Kerry to go to Paris in gesture of sympathy U....   \n",
       "3      0  Bernie supporters on Twitter erupt in anger ag...   \n",
       "4      1  The Battle of New York: Why This Primary Matte...   \n",
       "\n",
       "                                               clean  \n",
       "0  smell hillary fear daniel greenfield shillman ...  \n",
       "1  watch exact moment paul ryan committed politic...  \n",
       "2  kerry paris gesture sympathy secretary state j...  \n",
       "3  bernie supporters twitter erupt anger dnc trie...  \n",
       "4  battle new york primary matters primary day ne...  "
      ]
     },
     "execution_count": 16,
     "metadata": {},
     "output_type": "execute_result"
    }
   ],
   "source": [
    "news['clean'] = news['clean'].str.join(' ')\n",
    "news.head()"
   ]
  },
  {
   "cell_type": "markdown",
   "metadata": {},
   "source": [
    "## 3. Feature Extraction & Classification"
   ]
  },
  {
   "cell_type": "markdown",
   "metadata": {},
   "source": [
    "Now that our dataset has been preprocessed, we can perform feature extraction in order to create two different numerical representations of the data: one using the Bag-of-Words model and one using TF-IDF."
   ]
  },
  {
   "cell_type": "code",
   "execution_count": 17,
   "metadata": {},
   "outputs": [],
   "source": [
    "X = np.array(news['clean'])\n",
    "y = np.array(news['label'])"
   ]
  },
  {
   "cell_type": "code",
   "execution_count": 18,
   "metadata": {},
   "outputs": [
    {
     "data": {
      "text/plain": [
       "219529"
      ]
     },
     "execution_count": 18,
     "metadata": {},
     "output_type": "execute_result"
    }
   ],
   "source": [
    "orig_vocab = np.unique(np.concatenate(np.array(news['article'].str.split())))\n",
    "\n",
    "#Number of unique features in the dataset prior to preprocessing\n",
    "len(orig_vocab)"
   ]
  },
  {
   "cell_type": "code",
   "execution_count": 19,
   "metadata": {
    "scrolled": true
   },
   "outputs": [
    {
     "data": {
      "text/plain": [
       "(84174, 84174)"
      ]
     },
     "execution_count": 19,
     "metadata": {},
     "output_type": "execute_result"
    }
   ],
   "source": [
    "bow = CountVectorizer()\n",
    "X_bow = bow.fit_transform(X)\n",
    "\n",
    "tfidf = TfidfVectorizer()\n",
    "X_tfidf = tfidf.fit_transform(X)\n",
    "\n",
    "len(X_bow.A[0]), len(X_tfidf.A[0])"
   ]
  },
  {
   "cell_type": "markdown",
   "metadata": {},
   "source": [
    "As the code above shows, the size of our vocabulary shrank significantly during preprocessing. Using the techniques above helped us to maximize the amount of noise removed from the dataset, while minimizing the number of informative features lost.\n",
    "\n",
    "Another useful feature of CountVectorizer and TfidfVectorizer is that they allow us to set a maximum number of features to select from the transformed data ordered by term frequency across the corpus. This allows us to narrow our features down even further:"
   ]
  },
  {
   "cell_type": "code",
   "execution_count": 20,
   "metadata": {},
   "outputs": [
    {
     "data": {
      "text/plain": [
       "(5000, 5000)"
      ]
     },
     "execution_count": 20,
     "metadata": {},
     "output_type": "execute_result"
    }
   ],
   "source": [
    "bow = CountVectorizer(max_features = 5000)\n",
    "X_bow = bow.fit_transform(X)\n",
    "\n",
    "tfidf = TfidfVectorizer(max_features = 5000)\n",
    "X_tfidf = tfidf.fit_transform(X)\n",
    "\n",
    "len(X_bow.A[0]), len(X_tfidf.A[0])"
   ]
  },
  {
   "cell_type": "markdown",
   "metadata": {},
   "source": [
    "We will now split each of our transformations using [Stratified K-Fold](https://scikit-learn.org/stable/modules/generated/sklearn.model_selection.StratifiedKFold.html) and classify our data using the [random forest classifier](https://scikit-learn.org/stable/modules/generated/sklearn.ensemble.RandomForestClassifier.html) with [cross-validation](https://scikit-learn.org/stable/modules/generated/sklearn.model_selection.cross_val_predict.html)."
   ]
  },
  {
   "cell_type": "code",
   "execution_count": 21,
   "metadata": {
    "scrolled": true
   },
   "outputs": [],
   "source": [
    "def classify(X, y, plot_conf_matrix = True):\n",
    "    classifier = RandomForestClassifier(n_jobs = -1, random_state=0)\n",
    "    cv = StratifiedKFold(random_state=0, shuffle=True)\n",
    "    \n",
    "    # Classify data and calculate accuracy\n",
    "    y_pred = cross_val_predict(classifier, X, y, cv=cv)\n",
    "    \n",
    "    #Plot confusion matrix and report accuracy if plot_conf_matrix == True\n",
    "    if(plot_conf_matrix):\n",
    "        print(\"Mean Accuracy: \", np.mean(y==y_pred))\n",
    "        matrix = cm.ConfusionMatrixDisplay(confusion_matrix(y, y_pred), display_labels = ['FAKE','REAL'])\n",
    "        matrix.plot(include_values=True,\n",
    "          cmap='inferno');\n",
    "    else:\n",
    "        #Return accuracy if plot_conf_matrix == False\n",
    "        return np.mean(y==y_pred)"
   ]
  },
  {
   "cell_type": "markdown",
   "metadata": {},
   "source": [
    "#### Performance of Random Forest Classifier Using Bag-of-Words"
   ]
  },
  {
   "cell_type": "code",
   "execution_count": 22,
   "metadata": {},
   "outputs": [
    {
     "name": "stdout",
     "output_type": "stream",
     "text": [
      "Mean Accuracy:  0.9112865035516969\n"
     ]
    },
    {
     "data": {
      "image/png": "[encoded data removed]",
      "text/plain": [
       "<Figure size 432x288 with 2 Axes>"
      ]
     },
     "metadata": {
      "needs_background": "light"
     },
     "output_type": "display_data"
    }
   ],
   "source": [
    "classify(X_bow,y)"
   ]
  },
  {
   "cell_type": "markdown",
   "metadata": {},
   "source": [
    "#### Performance of Random Forest Classifier Using TF-IDF"
   ]
  },
  {
   "cell_type": "code",
   "execution_count": 23,
   "metadata": {
    "scrolled": true
   },
   "outputs": [
    {
     "name": "stdout",
     "output_type": "stream",
     "text": [
      "Mean Accuracy:  0.9164956590370955\n"
     ]
    },
    {
     "data": {
      "image/png": "[encoded data removed]",
      "text/plain": [
       "<Figure size 432x288 with 2 Axes>"
      ]
     },
     "metadata": {
      "needs_background": "light"
     },
     "output_type": "display_data"
    }
   ],
   "source": [
    "classify(X_tfidf,y)"
   ]
  },
  {
   "cell_type": "markdown",
   "metadata": {},
   "source": [
    "As we can see from the above confusion matrices, using the TF-IDF model for feature selection improved the accuracy of the classifier by a small margin.\n",
    "\n",
    "But how many useful features did we remove from our dataset? Would our classifier have performed better with all 62,653 of our remaining features still present? Is there a point where the Bag-of-Words model actually outperforms TF-IDF? We can observe the answers to these questions by looping over a list of different values for *max_features* and plotting the resulting accuracies:"
   ]
  },
  {
   "cell_type": "code",
   "execution_count": 24,
   "metadata": {},
   "outputs": [],
   "source": [
    "def plot_max_feature_accs(X, y):\n",
    "    feature_nums = [500, 1000, 2500, 5000, 10000, 25000, 62653]\n",
    "    bow_acc = np.zeros(len(feature_nums))\n",
    "    tfidf_acc = np.zeros(len(feature_nums))\n",
    "\n",
    "    for i in range(len(feature_nums)):\n",
    "        bow = CountVectorizer(max_features = feature_nums[i])\n",
    "        X_bow = bow.fit_transform(X)\n",
    "\n",
    "        tfidf = TfidfVectorizer(max_features = feature_nums[i])\n",
    "        X_tfidf = tfidf.fit_transform(X)\n",
    "        \n",
    "        bow_acc[i] = classify(X_bow, y, plot_conf_matrix = False)\n",
    "        tfidf_acc[i] = classify(X_tfidf, y, plot_conf_matrix = False)\n",
    "\n",
    "    plt.scatter(feature_nums, bow_acc, c='#ff6600',s=75, label=\"Bag-of-Words\")\n",
    "    plt.scatter(feature_nums, tfidf_acc, c='#770087',s=75, label=\"TF-IDF\")\n",
    "    plt.xscale(\"log\")\n",
    "    plt.xlabel(\"Number of Features\")\n",
    "    plt.ylabel(\"Mean Accuracy\")\n",
    "    plt.legend(bbox_to_anchor=(1, 1), loc='upper left', ncol=1)"
   ]
  },
  {
   "cell_type": "code",
   "execution_count": 25,
   "metadata": {
    "scrolled": true
   },
   "outputs": [
    {
     "data": {
      "image/png": "[encoded data removed]",
      "text/plain": [
       "<Figure size 432x288 with 1 Axes>"
      ]
     },
     "metadata": {
      "needs_background": "light"
     },
     "output_type": "display_data"
    }
   ],
   "source": [
    "plot_max_feature_accs(X, y)"
   ]
  },
  {
   "cell_type": "markdown",
   "metadata": {},
   "source": [
    "The above scatter plot shows that the TF-IDF model for feature selection consistently outperforms the Bag-of-Words model regardless of the number of features passed to the classifier. It also seems that 5000 features was a relatively strong selection for the optimum number of features to pass to the classifier for both the TF-IDF and Bag-of-Words models.\n",
    "\n",
    "It may also be concluded from the plot above that the optimum ratio of noise features removed from the dataset to informative features included occurs when the number of features passed to the classifier falls somewhere around 5000 features."
   ]
  },
  {
   "cell_type": "markdown",
   "metadata": {},
   "source": [
    "## Summary\n",
    "In this notebook, we were introduced to the topics of feature extraction in text data, the Bag-of-Words and TF-IDF methods for feature extraction, and several techniques for performing data preprocessing for the purpose of text classification.\n",
    "\n",
    "This notebook provided just an introduction to some of the many techniques used in text classification, and an even more brief look into the topic of fake news detection. Fake news is a topic which has endless applications in machine learning, both in its perpetuation and its eradication. "
   ]
  }
 ],
 "metadata": {
  "kernelspec": {
   "display_name": "Python 3",
   "language": "python",
   "name": "python3"
  },
  "language_info": {
   "codemirror_mode": {
    "name": "ipython",
    "version": 3
   },
   "file_extension": ".py",
   "mimetype": "text/x-python",
   "name": "python",
   "nbconvert_exporter": "python",
   "pygments_lexer": "ipython3",
   "version": "3.8.3"
  }
 },
 "nbformat": 4,
 "nbformat_minor": 4
}
